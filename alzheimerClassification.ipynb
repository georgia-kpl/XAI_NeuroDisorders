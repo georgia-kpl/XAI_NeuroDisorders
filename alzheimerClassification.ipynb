{
  "nbformat": 4,
  "nbformat_minor": 0,
  "metadata": {
    "colab": {
      "name": "alzheimerClassification.ipynb",
      "provenance": [],
      "mount_file_id": "1V-i-5OedCP5YiWLPY2FIGw8t77N5ppCn",
      "authorship_tag": "ABX9TyNhKOOV4wLbAJV1ZIQHDVBG"
    },
    "kernelspec": {
      "name": "python3",
      "display_name": "Python 3"
    },
    "language_info": {
      "name": "python"
    },
    "accelerator": "GPU",
    "gpuClass": "standard"
  },
  "cells": [
    {
      "cell_type": "markdown",
      "source": [
        "## Alzheimer's Classification (4 classes of images)\n",
        "\n",
        "The goal is to develop a simple classification model, and then test a variety of XAI techniques in order to understand what method fits best to alzheimer classification explainbility. "
      ],
      "metadata": {
        "id": "fsJ7dCs5VG5I"
      }
    },
    {
      "cell_type": "code",
      "source": [
        "!pip install tensorflow-addons==0.16.1"
      ],
      "metadata": {
        "colab": {
          "base_uri": "https://localhost:8080/"
        },
        "id": "4ylXYl0sa0SV",
        "outputId": "20d1e3a6-8bcc-4473-cd7e-6d014720a4ca"
      },
      "execution_count": 1,
      "outputs": [
        {
          "output_type": "stream",
          "name": "stdout",
          "text": [
            "Looking in indexes: https://pypi.org/simple, https://us-python.pkg.dev/colab-wheels/public/simple/\n",
            "Collecting tensorflow-addons==0.16.1\n",
            "  Downloading tensorflow_addons-0.16.1-cp37-cp37m-manylinux_2_12_x86_64.manylinux2010_x86_64.whl (1.1 MB)\n",
            "\u001b[K     |████████████████████████████████| 1.1 MB 9.6 MB/s \n",
            "\u001b[?25hRequirement already satisfied: typeguard>=2.7 in /usr/local/lib/python3.7/dist-packages (from tensorflow-addons==0.16.1) (2.7.1)\n",
            "Installing collected packages: tensorflow-addons\n",
            "Successfully installed tensorflow-addons-0.16.1\n"
          ]
        }
      ]
    },
    {
      "cell_type": "markdown",
      "source": [
        "# Imports"
      ],
      "metadata": {
        "id": "T_7XaKyK6Neb"
      }
    },
    {
      "cell_type": "code",
      "execution_count": 20,
      "metadata": {
        "id": "ogEQXnvhU_Jl"
      },
      "outputs": [],
      "source": [
        "import tensorflow as tf\n",
        "import tensorflow_addons as tfa\n",
        "from tensorflow import keras\n",
        "from tensorflow.keras.models import Model\n",
        "import numpy as np\n",
        "import pandas as pd\n",
        "from sklearn import metrics\n",
        "from sklearn.metrics import confusion_matrix\n",
        "from sklearn.metrics import classification_report\n",
        "from sklearn.model_selection import train_test_split\n",
        "import os\n",
        "from tqdm import tqdm\n",
        "from PIL import Image\n",
        "\n",
        "from sklearn.utils import shuffle\n",
        "from sklearn import metrics\n",
        "import matplotlib.pyplot as plt\n",
        "from tensorflow.keras import Input, Sequential\n",
        "from keras.wrappers.scikit_learn import KerasClassifier\n",
        "from tensorflow.keras.layers import Dense, Dropout, Flatten, Conv2D, BatchNormalization, Activation, MaxPooling2D, GlobalAveragePooling2D, SeparableConv2D\n",
        "from tensorflow.keras.callbacks import ReduceLROnPlateau, EarlyStopping, ModelCheckpoint\n",
        "from tensorflow.keras.applications.inception_v3 import InceptionV3\n",
        "from tensorflow.keras.preprocessing import image_dataset_from_directory\n",
        "from tensorflow.keras.preprocessing.image import ImageDataGenerator\n",
        "from tensorflow.keras.utils import to_categorical\n",
        "import keras.backend as K\n",
        "\n",
        "from distutils.dir_util import copy_tree, remove_tree"
      ]
    },
    {
      "cell_type": "markdown",
      "source": [
        "# Loading Dataset"
      ],
      "metadata": {
        "id": "Rf9ihu3D6PQ9"
      }
    },
    {
      "cell_type": "code",
      "source": [
        "train_data_gen = ImageDataGenerator(rescale = 1./255,\n",
        "                                    validation_split = 0.25,\n",
        "                                    rotation_range=10,\n",
        "                                    width_shift_range=0.2,\n",
        "                                    height_shift_range=0.2,\n",
        "                                    shear_range=0.2,\n",
        "                                    zoom_range=0.2,\n",
        "                                    horizontal_flip=True,\n",
        "                                    vertical_flip=True,\n",
        "                                    fill_mode='nearest')\n",
        "\n",
        "valid_data_gen = ImageDataGenerator(rescale = 1./255, validation_split = 0.25)\n",
        "\n",
        "test_data_gen  = ImageDataGenerator(rescale = 1./255)"
      ],
      "metadata": {
        "id": "BiQAnKkK6R1L"
      },
      "execution_count": 7,
      "outputs": []
    },
    {
      "cell_type": "code",
      "source": [
        "training_data  = train_data_gen.flow_from_directory(directory = '/content/drive/MyDrive/MSc/Data/Alzheimer_s Dataset/train',\n",
        "                                                   target_size = (224,224),\n",
        "                                                   class_mode = 'categorical',\n",
        "                                                   subset = 'training',\n",
        "                                                   batch_size = 32)"
      ],
      "metadata": {
        "colab": {
          "base_uri": "https://localhost:8080/"
        },
        "id": "5ys_0e5b6j_w",
        "outputId": "4b0e15f4-79c5-466e-9836-106f1c5e83b0"
      },
      "execution_count": 8,
      "outputs": [
        {
          "output_type": "stream",
          "name": "stdout",
          "text": [
            "Found 3841 images belonging to 4 classes.\n"
          ]
        }
      ]
    },
    {
      "cell_type": "code",
      "source": [
        "valid_data = valid_data_gen.flow_from_directory(directory = '/content/drive/MyDrive/MSc/Data/Alzheimer_s Dataset/train',\n",
        "                                                  target_size = (224,224),\n",
        "                                                  class_mode = 'categorical',\n",
        "                                                  subset = 'validation',\n",
        "                                                  batch_size = 32)"
      ],
      "metadata": {
        "colab": {
          "base_uri": "https://localhost:8080/"
        },
        "id": "a85J6zY4Z-Zv",
        "outputId": "e2f03777-aaa6-4e0e-fde6-2ef2967b2164"
      },
      "execution_count": 28,
      "outputs": [
        {
          "output_type": "stream",
          "name": "stdout",
          "text": [
            "Found 1280 images belonging to 4 classes.\n"
          ]
        }
      ]
    },
    {
      "cell_type": "code",
      "source": [
        "test_data = test_data_gen.flow_from_directory(directory = '/content/drive/MyDrive/MSc/Data/Alzheimer_s Dataset/test',\n",
        "                                                  target_size = (224,224),\n",
        "                                                  class_mode = 'categorical',\n",
        "                                                  batch_size = 32)"
      ],
      "metadata": {
        "colab": {
          "base_uri": "https://localhost:8080/"
        },
        "id": "zFsGZHnoUn7v",
        "outputId": "0f479c14-ff02-4619-ca0c-2477d788d6e2"
      },
      "execution_count": 10,
      "outputs": [
        {
          "output_type": "stream",
          "name": "stdout",
          "text": [
            "Found 1279 images belonging to 4 classes.\n"
          ]
        }
      ]
    },
    {
      "cell_type": "markdown",
      "source": [
        "# Model Building"
      ],
      "metadata": {
        "id": "5U4uBQeNU71H"
      }
    },
    {
      "cell_type": "code",
      "source": [
        "def sequential_model():\n",
        "    model = Sequential()\n",
        "    model.add(Conv2D(16,(3,3),padding='valid',input_shape = (224,224,3),activation='relu'))\n",
        "    model.add(Conv2D(32,(3,3),padding='valid',activation='relu'))\n",
        "    model.add(MaxPooling2D(pool_size=(2,2),strides=2,padding = 'same'))\n",
        "    model.add(Conv2D(32,(3,3),padding='valid',activation='relu'))   \n",
        "    model.add(Conv2D(64,(3,3),padding='valid',activation='relu'))\n",
        "    model.add(MaxPooling2D(pool_size=(2,2),strides=2,padding = 'same'))\n",
        "    \n",
        "    model.add(Conv2D(64,(3,3),padding='valid',activation='relu'))\n",
        "    \n",
        "    model.add(Conv2D(128,(3,3),padding='valid',activation='relu'))\n",
        "    model.add(MaxPooling2D(pool_size=(2,2),strides=2,padding = 'same'))\n",
        "    \n",
        "    model.add(Conv2D(128,(3,3),padding='valid',activation='relu'))\n",
        "    \n",
        "    model.add(Conv2D(128,(3,3),padding='valid',activation='relu'))\n",
        "    model.add(MaxPooling2D(pool_size=(2,2),strides=2,padding = 'same'))\n",
        "    \n",
        "    \n",
        "    model.add(Flatten())\n",
        "    model.add(Dense(32))\n",
        "    model.add(Dense(32))\n",
        "    model.add(Dense(32))\n",
        "    model.add(Dense(32))\n",
        "    model.add(Dense(4))\n",
        "    model.add(Activation('softmax'))\n",
        "    \n",
        "    return model\n"
      ],
      "metadata": {
        "id": "wy3I1K6sU-eS"
      },
      "execution_count": 21,
      "outputs": []
    },
    {
      "cell_type": "code",
      "source": [
        "model = sequential_model()\n",
        "model.summary()"
      ],
      "metadata": {
        "colab": {
          "base_uri": "https://localhost:8080/"
        },
        "id": "gRycaJrLY4mE",
        "outputId": "67aa4aa3-6709-4648-8e18-09848aa2d0e9"
      },
      "execution_count": 22,
      "outputs": [
        {
          "output_type": "stream",
          "name": "stdout",
          "text": [
            "Model: \"sequential_3\"\n",
            "_________________________________________________________________\n",
            " Layer (type)                Output Shape              Param #   \n",
            "=================================================================\n",
            " conv2d_18 (Conv2D)          (None, 222, 222, 16)      448       \n",
            "                                                                 \n",
            " conv2d_19 (Conv2D)          (None, 220, 220, 32)      4640      \n",
            "                                                                 \n",
            " max_pooling2d_8 (MaxPooling  (None, 110, 110, 32)     0         \n",
            " 2D)                                                             \n",
            "                                                                 \n",
            " conv2d_20 (Conv2D)          (None, 108, 108, 32)      9248      \n",
            "                                                                 \n",
            " conv2d_21 (Conv2D)          (None, 106, 106, 64)      18496     \n",
            "                                                                 \n",
            " max_pooling2d_9 (MaxPooling  (None, 53, 53, 64)       0         \n",
            " 2D)                                                             \n",
            "                                                                 \n",
            " conv2d_22 (Conv2D)          (None, 51, 51, 64)        36928     \n",
            "                                                                 \n",
            " conv2d_23 (Conv2D)          (None, 49, 49, 128)       73856     \n",
            "                                                                 \n",
            " max_pooling2d_10 (MaxPoolin  (None, 25, 25, 128)      0         \n",
            " g2D)                                                            \n",
            "                                                                 \n",
            " conv2d_24 (Conv2D)          (None, 23, 23, 128)       147584    \n",
            "                                                                 \n",
            " conv2d_25 (Conv2D)          (None, 21, 21, 128)       147584    \n",
            "                                                                 \n",
            " max_pooling2d_11 (MaxPoolin  (None, 11, 11, 128)      0         \n",
            " g2D)                                                            \n",
            "                                                                 \n",
            " flatten_2 (Flatten)         (None, 15488)             0         \n",
            "                                                                 \n",
            " dense_10 (Dense)            (None, 32)                495648    \n",
            "                                                                 \n",
            " dense_11 (Dense)            (None, 32)                1056      \n",
            "                                                                 \n",
            " dense_12 (Dense)            (None, 32)                1056      \n",
            "                                                                 \n",
            " dense_13 (Dense)            (None, 32)                1056      \n",
            "                                                                 \n",
            " dense_14 (Dense)            (None, 4)                 132       \n",
            "                                                                 \n",
            " activation (Activation)     (None, 4)                 0         \n",
            "                                                                 \n",
            "=================================================================\n",
            "Total params: 937,732\n",
            "Trainable params: 937,732\n",
            "Non-trainable params: 0\n",
            "_________________________________________________________________\n"
          ]
        }
      ]
    },
    {
      "cell_type": "code",
      "source": [
        "def get_f1(y_true, y_pred): #taken from old keras source code\n",
        "    true_positives = K.sum(K.round(K.clip(y_true * y_pred, 0, 1)))\n",
        "    possible_positives = K.sum(K.round(K.clip(y_true, 0, 1)))\n",
        "    predicted_positives = K.sum(K.round(K.clip(y_pred, 0, 1)))\n",
        "    precision = true_positives / (predicted_positives + K.epsilon())\n",
        "    recall = true_positives / (possible_positives + K.epsilon())\n",
        "    f1_val = 2*(precision*recall)/(precision+recall+K.epsilon())\n",
        "    return f1_val"
      ],
      "metadata": {
        "id": "3-Uhv3T6Y6ol"
      },
      "execution_count": 23,
      "outputs": []
    },
    {
      "cell_type": "code",
      "source": [
        "METRICS = [\n",
        "      tf.keras.metrics.BinaryAccuracy(name='accuracy'),\n",
        "      tf.keras.metrics.Precision(name='precision'),\n",
        "      tf.keras.metrics.Recall(name='recall'),  \n",
        "      tf.keras.metrics.AUC(name='auc'),\n",
        "      get_f1,\n",
        "]"
      ],
      "metadata": {
        "id": "N1Floax0ZeLO"
      },
      "execution_count": 24,
      "outputs": []
    },
    {
      "cell_type": "code",
      "source": [
        "def exponential_decay(lr0, s):\n",
        "    def exponential_decay_fn(epoch):\n",
        "        return lr0 * 0.1 **(epoch / s)\n",
        "    return exponential_decay_fn\n",
        "\n",
        "exponential_decay_fn = exponential_decay(0.01, 5) # when i run it for 50 epochs\n",
        "\n",
        "lr_scheduler = tf.keras.callbacks.LearningRateScheduler(exponential_decay_fn)"
      ],
      "metadata": {
        "id": "zNTsemzpZrzr"
      },
      "execution_count": 25,
      "outputs": []
    },
    {
      "cell_type": "code",
      "source": [
        "model.compile(optimizer=tf.keras.optimizers.Adam(\n",
        "    learning_rate=0.001, beta_1=0.9, beta_2=0.999, epsilon=1e-07, amsgrad=False,\n",
        "    name='Adam',), loss='categorical_crossentropy',metrics=METRICS)"
      ],
      "metadata": {
        "id": "fjm0g10xZukL"
      },
      "execution_count": 26,
      "outputs": []
    },
    {
      "cell_type": "code",
      "source": [
        "history=model.fit(training_data,\n",
        "                        validation_data=valid_data,\n",
        "                        epochs = 10,\n",
        "                        verbose = 1,\n",
        "                        callbacks=lr_scheduler)"
      ],
      "metadata": {
        "colab": {
          "base_uri": "https://localhost:8080/"
        },
        "id": "R0_aU9u_Zy0g",
        "outputId": "cab1312a-fa02-4e92-9de5-d8d40ca8d940"
      },
      "execution_count": 29,
      "outputs": [
        {
          "output_type": "stream",
          "name": "stdout",
          "text": [
            "Epoch 1/10\n",
            "121/121 [==============================] - 1059s 9s/step - loss: 37.8542 - accuracy: 0.7445 - precision: 0.4798 - recall: 0.2598 - auc: 0.7634 - get_f1: 0.2582 - val_loss: 1.0513 - val_accuracy: 0.7500 - val_precision: 0.5000 - val_recall: 0.5000 - val_auc: 0.7799 - val_get_f1: 0.5000 - lr: 0.0100\n",
            "Epoch 2/10\n",
            "121/121 [==============================] - 51s 417ms/step - loss: 1.0456 - accuracy: 0.7523 - precision: 0.5067 - recall: 0.3421 - auc: 0.7783 - get_f1: 0.3474 - val_loss: 1.0474 - val_accuracy: 0.7500 - val_precision: 0.0000e+00 - val_recall: 0.0000e+00 - val_auc: 0.7799 - val_get_f1: 0.0000e+00 - lr: 0.0063\n",
            "Epoch 3/10\n",
            "121/121 [==============================] - 51s 418ms/step - loss: 1.0419 - accuracy: 0.7496 - precision: 0.4983 - recall: 0.2325 - auc: 0.7798 - get_f1: 0.2306 - val_loss: 1.0399 - val_accuracy: 0.7500 - val_precision: 0.0000e+00 - val_recall: 0.0000e+00 - val_auc: 0.7799 - val_get_f1: 0.0000e+00 - lr: 0.0040\n",
            "Epoch 4/10\n",
            "121/121 [==============================] - 51s 422ms/step - loss: 1.0406 - accuracy: 0.7505 - precision: 0.5026 - recall: 0.2010 - auc: 0.7803 - get_f1: 0.1994 - val_loss: 1.0360 - val_accuracy: 0.7500 - val_precision: 0.0000e+00 - val_recall: 0.0000e+00 - val_auc: 0.7799 - val_get_f1: 0.0000e+00 - lr: 0.0025\n",
            "Epoch 5/10\n",
            "121/121 [==============================] - 52s 426ms/step - loss: 1.0375 - accuracy: 0.7528 - precision: 0.5122 - recall: 0.2348 - auc: 0.7814 - get_f1: 0.2330 - val_loss: 1.0398 - val_accuracy: 0.7500 - val_precision: 0.0000e+00 - val_recall: 0.0000e+00 - val_auc: 0.7799 - val_get_f1: 0.0000e+00 - lr: 0.0016\n",
            "Epoch 6/10\n",
            "121/121 [==============================] - 50s 412ms/step - loss: 1.0390 - accuracy: 0.7490 - precision: 0.4967 - recall: 0.2898 - auc: 0.7778 - get_f1: 0.2955 - val_loss: 1.0358 - val_accuracy: 0.7500 - val_precision: 0.5000 - val_recall: 0.5000 - val_auc: 0.7799 - val_get_f1: 0.5000 - lr: 0.0010\n",
            "Epoch 7/10\n",
            "121/121 [==============================] - 50s 414ms/step - loss: 1.0371 - accuracy: 0.7511 - precision: 0.5031 - recall: 0.3564 - auc: 0.7786 - get_f1: 0.3616 - val_loss: 1.0362 - val_accuracy: 0.7500 - val_precision: 0.5000 - val_recall: 0.5000 - val_auc: 0.7799 - val_get_f1: 0.5000 - lr: 6.3096e-04\n",
            "Epoch 8/10\n",
            "121/121 [==============================] - 50s 413ms/step - loss: 1.0366 - accuracy: 0.7490 - precision: 0.4967 - recall: 0.3145 - auc: 0.7780 - get_f1: 0.3120 - val_loss: 1.0363 - val_accuracy: 0.7500 - val_precision: 0.5000 - val_recall: 0.5000 - val_auc: 0.7799 - val_get_f1: 0.5000 - lr: 3.9811e-04\n",
            "Epoch 9/10\n",
            "121/121 [==============================] - 50s 414ms/step - loss: 1.0367 - accuracy: 0.7490 - precision: 0.4969 - recall: 0.3353 - auc: 0.7765 - get_f1: 0.3326 - val_loss: 1.0358 - val_accuracy: 0.7500 - val_precision: 0.5000 - val_recall: 0.5000 - val_auc: 0.7799 - val_get_f1: 0.5000 - lr: 2.5119e-04\n",
            "Epoch 10/10\n",
            "121/121 [==============================] - 50s 413ms/step - loss: 1.0362 - accuracy: 0.7510 - precision: 0.5031 - recall: 0.3145 - auc: 0.7801 - get_f1: 0.3120 - val_loss: 1.0359 - val_accuracy: 0.7500 - val_precision: 0.0000e+00 - val_recall: 0.0000e+00 - val_auc: 0.7799 - val_get_f1: 0.0000e+00 - lr: 1.5849e-04\n"
          ]
        }
      ]
    }
  ]
}